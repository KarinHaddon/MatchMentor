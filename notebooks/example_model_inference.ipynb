{
 "cells": [
  {
   "cell_type": "markdown",
   "metadata": {},
   "source": [
    "## Overview\n",
    "\n",
    "In this notebook, we load a saved model trained in `example_model_training.ipynb`, and use it to perform predictive \n",
    "inference on events of interest from frames from a new video it has not been trained on."
   ]
  },
  {
   "cell_type": "code",
   "execution_count": null,
   "metadata": {},
   "outputs": [],
   "source": [
    "# Load saved model\n",
    "# Pass all frames from video through, get rounded predictions for each frame\n",
    "# Convert these predictions to text format: (\"Possession: True / False\", \"Set Piece: True / False\")\n",
    "# Overlay text on video frame-by-frame, save new output video"
   ]
  },
  {
   "cell_type": "code",
   "execution_count": null,
   "metadata": {},
   "outputs": [],
   "source": []
  }
 ],
 "metadata": {
  "kernelspec": {
   "display_name": "intro2dl",
   "language": "python",
   "name": "python3"
  },
  "language_info": {
   "name": "python",
   "version": "3.11.5"
  }
 },
 "nbformat": 4,
 "nbformat_minor": 2
}
