{
 "cells": [
  {
   "cell_type": "code",
   "execution_count": null,
   "metadata": {},
   "outputs": [],
   "source": [
    "import cv2\n",
    "import numpy as np\n",
    "\n",
    "from pathlib import Path\n",
    "from PIL import Image\n",
    "\n"
   ]
  },
  {
   "cell_type": "code",
   "execution_count": null,
   "metadata": {},
   "outputs": [],
   "source": [
    "path4video = Path(r\"C:\\Users\\karin\\NEA\\data\\LiverpoolNorwichShort.mp4\")  \n",
    "vid = cv2.VideoCapture(str(path4video)) \n",
    "success, frame = vid.read() \n",
    "frame = cv2.cvtColor(frame, cv2.COLOR_BGR2RGB)  \n",
    "# convert frame as numpy array to PIL image\n",
    "image = Image.fromarray(frame) \n",
    "\n"
   ]
  },
  {
   "cell_type": "code",
   "execution_count": 4,
   "metadata": {},
   "outputs": [],
   "source": [
    "newWidth = frame.shape[0] // 2  \n",
    "newHeight = frame.shape[1] // 2\n",
    "# make a new video file\n",
    "tomp4v = cv2.VideoWriter_fourcc('m', 'p', '4', 'v')\n",
    "outPath = Path(r\"C:\\Users\\karin\\NEa\\data\\LiverpoolNorwichShortDownsampled.mp4\")  \n",
    "try:\n",
    "    out = cv2.VideoWriter(str(outPath), tomp4v, 30, (newHeight, newWidth))  \n",
    "    # For each frame in the original video, resize and write to new video file.\n",
    "    while vid.isOpened():\n",
    "        ret, frame = vid.read()\n",
    "        resized_frame = cv2.resize(frame, (newHeight, newWidth), interpolation=cv2.INTER_AREA)\n",
    "        out.write(resized_frame)  \n",
    "    vid.release()  \n",
    "    out.release()  \n",
    "except Exception as e:\n",
    "    print(f\"An error occured: {e}\")\n",
    "    vid.release()\n",
    "    exit()"
   ]
  },
  {
   "cell_type": "code",
   "execution_count": 5,
   "metadata": {},
   "outputs": [],
   "source": [
    "outPath = Path(r\"C:\\Users\\karin\\NEA\\data\\combinedFrames\") \n",
    "path4video = Path(r\"C:\\Users\\karin\\NEa\\data\\LiverpoolNorwichShortDownsampled.mp4\")  \n",
    "readVid = cv2.VideoCapture(str(path4video))  \n",
    "frameNumb = 0  \n",
    "frames2use = (400, 7200)  \n",
    "# Loop through frames in video if in frames to take saves every 10th frame as a png file.\n",
    "while readVid.isOpened():\n",
    "    ret, frame = readVid.read()  \n",
    "    if (frameNumb <= frames2use[0]):  \n",
    "        frameNumb = frameNumb + 1  \n",
    "        continue\n",
    "    elif (frameNumb > frames2use[1]):  \n",
    "        break\n",
    "    if frameNumb % 10 == 0:  \n",
    "        frame = cv2.cvtColor(frame, cv2.COLOR_BGR2RGB)  \n",
    "        image = Image.fromarray(frame)  \n",
    "        image.save(outPath / (\"frame_\" + str(frameNumb) + \".png\")) \n",
    "    frameNumb += 1  \n",
    "readVid.release()  "
   ]
  },
  {
   "cell_type": "code",
   "execution_count": null,
   "metadata": {},
   "outputs": [],
   "source": []
  }
 ],
 "metadata": {
  "kernelspec": {
   "display_name": "veo_nu",
   "language": "python",
   "name": "python3"
  },
  "language_info": {
   "codemirror_mode": {
    "name": "ipython",
    "version": 3
   },
   "file_extension": ".py",
   "mimetype": "text/x-python",
   "name": "python",
   "nbconvert_exporter": "python",
   "pygments_lexer": "ipython3",
   "version": "3.11.5"
  }
 },
 "nbformat": 4,
 "nbformat_minor": 2
}
