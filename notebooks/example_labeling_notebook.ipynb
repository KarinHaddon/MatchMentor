{
 "cells": [
  {
   "cell_type": "markdown",
   "metadata": {},
   "source": [
    "## Overview\n",
    "\n",
    "In this notebook, we extract frames from a video for labeling."
   ]
  },
  {
   "cell_type": "code",
   "execution_count": null,
   "metadata": {},
   "outputs": [],
   "source": [
    "\"\"\"Imports and notebook settings.\"\"\"\n",
    "\n",
    "from pathlib import Path\n",
    "from PIL import Image\n",
    "\n",
    "import cv2\n",
    "import numpy as np\n"
   ]
  },
  {
   "cell_type": "code",
   "execution_count": null,
   "metadata": {},
   "outputs": [],
   "source": [
    "\"\"\"Load video, visualize first frame.\"\"\"\n",
    "\n",
    "video_path = Path(r\"C:\\Users\\jai\\veo_nu\\data\\NN_Cut_Clip.mp4\")  # path to saved video\n",
    "if not video_path.exists():  # throw error if can't find file\n",
    "    raise FileNotFoundError(f\"Video file not found at {video_path}\")\n",
    "cap = cv2.VideoCapture(str(video_path))  # read in video file\n",
    "if not cap.isOpened():  # throw error if cv2 can't open the file\n",
    "    raise Exception(f\"cv2 was not able to load the video file\")\n",
    "ret, frame_BGR = cap.read()  # grab first frame\n",
    "frame = cv2.cvtColor(frame_BGR, cv2.COLOR_BGR2RGB)  # convert BGR to RGB\n",
    "print(frame.shape)  # print frame shape (numpy array)\n",
    "image = Image.fromarray(frame)  # convert frame as numpy array to PIL image\n",
    "display(image)  # display the image below\n"
   ]
  },
  {
   "cell_type": "code",
   "execution_count": null,
   "metadata": {},
   "outputs": [],
   "source": [
    "\"\"\"Frames to take for each annotator.\"\"\"\n",
    "\n",
    "cap.get(cv2.CAP_PROP_FRAME_COUNT)  # total number of frames in video\n",
    "\n",
    "# Jai takes every 10th frame from 400 to 2400\n",
    "# Karin takes every 10th frame from 2401 to 4800\n",
    "# Filip takes every 10th frame from 4801 to 7200"
   ]
  },
  {
   "cell_type": "code",
   "execution_count": 4,
   "metadata": {},
   "outputs": [],
   "source": [
    "\"\"\"Downsample resolution to half and write out new video.\"\"\"\n",
    "\n",
    "new_width, new_height = frame.shape[0] // 2, frame.shape[1] // 2  # get new width and height\n",
    "\n",
    "# Create a new video file via cv2.VideoWriter\n",
    "fourcc = cv2.VideoWriter_fourcc(*\"mp4v\")  # codec for mp4 files\n",
    "out_path = Path(r\"C:\\Users\\jai\\veo_nu\\data\\NN_Cut_Clip_downsampled.mp4\")  # path to save new video\n",
    "out = cv2.VideoWriter(str(out_path), fourcc, 30, (new_height, new_width))  # create new video file object\n",
    "\n",
    "# For each frame in the original video, resize and write to new video file.\n",
    "while cap.isOpened():\n",
    "    ret, frame = cap.read()\n",
    "    if not ret:  # if error reading frame, break.\n",
    "        break\n",
    "    # Rezise frame; todo: what does interpolation do?\n",
    "    resized_frame = cv2.resize(frame, (new_height, new_width), interpolation=cv2.INTER_AREA)\n",
    "    out.write(resized_frame)  # write frame to new video file\n",
    "\n",
    "cap.release()  # release the original video file\n",
    "out.release()  # release the new (downsampled) video file\n"
   ]
  },
  {
   "cell_type": "code",
   "execution_count": 5,
   "metadata": {},
   "outputs": [],
   "source": [
    "\"\"\"Save every 10th frame as a png file: manually create `out_path` directory first!\"\"\"\n",
    "\n",
    "# Make sure to create the directory manually first!\n",
    "out_path = Path(r\"C:\\Users\\jai\\veo_nu\\data\\initial_combined_frames\")  # directory in which to save frames\n",
    "video_path = Path(r\"C:\\Users\\jai\\veo_nu\\data\\NN_Cut_Clip_downsampled.mp4\")  # get path to downsampled video\n",
    "if not video_path.exists():  # throw error if path not found\n",
    "    raise FileNotFoundError(f\"Video file not found at {video_path}\")\n",
    "cap = cv2.VideoCapture(str(video_path))  # read in video file\n",
    "\n",
    "frame_number = 0  # current frame number\n",
    "frames_to_take = (400, 7200)  # min, max of frames to take, depending on annotator\n",
    "# Loop through frames in video, if within frames to take, save every 10th frame as a png file.\n",
    "while cap.isOpened():\n",
    "    ret, frame_BGR = cap.read()  # grab frame\n",
    "    if not ret:  # if error reading frame, break loop\n",
    "        break\n",
    "    if (frame_number <= frames_to_take[0]):  # skip frame unless within range to take\n",
    "        frame_number += 1  # add 1 to frame number counter\n",
    "        continue\n",
    "    elif (frame_number > frames_to_take[1]):  # after last frame to take, break loop\n",
    "        break\n",
    "    if frame_number % 10 == 0:  # only save every 10th frame\n",
    "        frame = cv2.cvtColor(frame_BGR, cv2.COLOR_BGR2RGB)  # convert BGR to RGB\n",
    "        image = Image.fromarray(frame)  # convert numpy array to PIL Image\n",
    "        image.save((out_path / f\"frame_{frame_number}.png\"))  # save image as png file\n",
    "    frame_number += 1  # add 1 to frame number counter\n",
    "\n",
    "cap.release()  # release the video file"
   ]
  },
  {
   "cell_type": "code",
   "execution_count": null,
   "metadata": {},
   "outputs": [],
   "source": []
  }
 ],
 "metadata": {
  "kernelspec": {
   "display_name": "veo_nu",
   "language": "python",
   "name": "python3"
  },
  "language_info": {
   "codemirror_mode": {
    "name": "ipython",
    "version": 3
   },
   "file_extension": ".py",
   "mimetype": "text/x-python",
   "name": "python",
   "nbconvert_exporter": "python",
   "pygments_lexer": "ipython3",
   "version": "3.11.5"
  }
 },
 "nbformat": 4,
 "nbformat_minor": 2
}
